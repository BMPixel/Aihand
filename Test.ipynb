{
 "cells": [
  {
   "cell_type": "code",
   "execution_count": 9,
   "metadata": {},
   "outputs": [
    {
     "name": "stdout",
     "output_type": "stream",
     "text": [
      "MSGLoadingHeader\n"
     ]
    }
   ],
   "source": [
    "import warnings\n",
    "warnings.filterwarnings('ignore')\n",
    "from sys import stdout\n",
    "stdout.flush()\n",
    "print(\"MSGLoadingHeader\")\n",
    "stdout.flush()\n",
    "import pandas as pd  # data processing, CSV file I/O (e.g. pd.read_csv)\n",
    "import numpy as np\n",
    "import matplotlib.pyplot as plt\n",
    "import tensorflow as tf\n",
    "tf.logging.set_verbosity(tf.logging.ERROR)\n",
    "import time"
   ]
  },
  {
   "cell_type": "code",
   "execution_count": 23,
   "metadata": {},
   "outputs": [
    {
     "name": "stdout",
     "output_type": "stream",
     "text": [
      "MSGBuildGraph\n"
     ]
    }
   ],
   "source": [
    "\n",
    "stdout.flush()\n",
    "print(\"MSGBuildGraph\")\n",
    "stdout.flush()\n",
    "batch_size = 56\n",
    "tf.reset_default_graph()\n",
    "\n",
    "Wh = tf.Variable(tf.random_normal([8, 32]))\n",
    "bh = tf.Variable(tf.random_normal([32]))\n",
    "Wo = tf.Variable(tf.random_normal([32, 1]))\n",
    "bo = tf.Variable(tf.random_normal([1]))\n",
    "\n",
    "lstm_cell = tf.nn.rnn_cell.LSTMCell(32, forget_bias=0, state_is_tuple=True)\n",
    "train_init = lstm_cell.zero_state(batch_size, \"float\")\n",
    "a = tf.placeholder(\"float\", [None, 96, 32])\n",
    "\n",
    "outputs, state = tf.nn.dynamic_rnn(lstm_cell, a, initial_state=train_init)\n",
    "sess = tf.Session()\n",
    "saver = tf.train.Saver(write_version=tf.train.SaverDef.V1)\n",
    "saver.restore(sess, \"./para\")\n",
    "\n",
    "_s = tf.nn.rnn_cell.LSTMStateTuple(tf.placeholder(\"float\",[1, 32]), tf.placeholder(\"float\", [1, 32]))\n",
    "_o = tf.placeholder(\"float\", [1, 32])\n",
    "_x = tf.placeholder(\"float\", [1, 8])\n",
    "_a = tf.nn.softsign(tf.matmul(_x, Wh) + bh)\n",
    "_cell = lstm_cell(inputs=_a, state=_s)\n",
    "_y = tf.sigmoid(tf.matmul(_o, Wo) + bo)\n",
    "hist = []\n",
    "\n",
    "feed_state = (np.zeros((1, 32)), np.zeros((1, 32)))\n",
    "def run(arr):\n",
    "    global feed_state\n",
    "    feed_out, feed_state = sess.run(\n",
    "        _cell, feed_dict={\n",
    "            _x: arr,\n",
    "            _s: feed_state\n",
    "        })\n",
    "\n",
    "    ans = sess.run(_y, feed_dict={_o: feed_out})\n",
    "    return ans"
   ]
  }
 ],
 "metadata": {
  "kernelspec": {
   "display_name": "Tensorflow",
   "language": "python",
   "name": "tensorflow"
  },
  "language_info": {
   "codemirror_mode": {
    "name": "ipython",
    "version": 3
   },
   "file_extension": ".py",
   "mimetype": "text/x-python",
   "name": "python",
   "nbconvert_exporter": "python",
   "pygments_lexer": "ipython3",
   "version": "3.6.6"
  }
 },
 "nbformat": 4,
 "nbformat_minor": 2
}
