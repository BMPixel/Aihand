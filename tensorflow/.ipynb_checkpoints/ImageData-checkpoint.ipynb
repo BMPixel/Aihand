{
 "cells": [
  {
   "cell_type": "code",
   "execution_count": 15,
   "metadata": {},
   "outputs": [],
   "source": [
    "import cv2\n",
    "import numpy as np\n",
    "import random\n",
    "import matplotlib.pyplot as plt"
   ]
  },
  {
   "cell_type": "code",
   "execution_count": 254,
   "metadata": {},
   "outputs": [],
   "source": [
    "class DataSet:\n",
    "    \n",
    "    def __init__(self):\n",
    "        cap_size = 297\n",
    "        incap_size = 300\n",
    "        self.y = np.zeros((cap_size + incap_size, 1))\n",
    "        self.x = np.zeros((cap_size + incap_size, 45 * 45 * 3))\n",
    "        for i in range(cap_size):\n",
    "            img = cv2.imread(\"cap/pic%d.jpg\"%(i))\n",
    "            self.y[i, 0] = 1\n",
    "            img = cv2.resize(img, (45, 45))\n",
    "            self.x[i, :] = np.reshape(img, (1, 45 * 45 * 3))\n",
    "        for i in range(incap_size):\n",
    "            img = cv2.imread(\"incap/pic%d.jpg\"%(i))\n",
    "            self.y[i + cap_size, 0] = 0\n",
    "            img = cv2.resize(img, (45, 45))\n",
    "            self.x[i + cap_size, :] = np.reshape(img, (1, 45 * 45 * 3))\n",
    "        \n",
    "        permutation = np.random.permutation(self.x.shape[0])\n",
    "        self.x = self.x[permutation, :]\n",
    "        self.y = self.y[permutation, :]\n",
    "    \n",
    "    def get_batch(self, size):\n",
    "        counter = 0\n",
    "        while True:\n",
    "            yield self.x[counter:counter + size, :], self.y[counter:counter + size, :]\n",
    "            counter += size\n",
    "            if counter + size > self.x.shape[0]:\n",
    "                permutation = np.random.permutation(self.x.shape[0])\n",
    "                self.x = self.x[permutation, :]\n",
    "                self.y = self.y[permutation, :]\n",
    "                counter = 0\n",
    "    \n",
    "    def plot_random(self):\n",
    "        i = int(random.uniform(0, 597))\n",
    "        x_flat = self.x[i, :]\n",
    "        img = np.uint8(np.reshape(x_flat, (45, 45, 3)))\n",
    "        img = cv2.cvtColor(img, cv2.COLOR_BGR2RGB)\n",
    "        plt.imshow(img)\n",
    "        plt.title(\"y: \" + str(self.y[i, 0]) )"
   ]
  },
  {
   "cell_type": "code",
   "execution_count": 247,
   "metadata": {},
   "outputs": [
    {
     "data": {
      "text/plain": [
       "array([ 7, 11,  8, 12,  6, 13, 10, 14,  5,  9])"
      ]
     },
     "execution_count": 247,
     "metadata": {},
     "output_type": "execute_result"
    }
   ],
   "source": [
    "a = [i + 5 for i in range(10)]\n",
    "a = np.array(a)\n",
    "p = np.random.permutation(10)\n",
    "a[p]"
   ]
  },
  {
   "cell_type": "code",
   "execution_count": 308,
   "metadata": {},
   "outputs": [
    {
     "name": "stdout",
     "output_type": "stream",
     "text": [
      "(array([[ 68.,  65., 119., ...,  33.,  67.,  49.],\n",
      "       [255., 253., 252., ..., 164., 190., 116.],\n",
      "       [142., 130., 242., ...,  59.,  68.,  59.],\n",
      "       ...,\n",
      "       [ 62.,  86.,  60., ...,  13.,  50.,  27.],\n",
      "       [103., 124., 100., ...,  51.,  42.,  30.],\n",
      "       [102., 108., 111., ...,  89., 100.,  76.]]), array([[1.],\n",
      "       [1.],\n",
      "       [1.],\n",
      "       [1.],\n",
      "       [1.],\n",
      "       [1.],\n",
      "       [0.],\n",
      "       [0.],\n",
      "       [0.],\n",
      "       [1.],\n",
      "       [1.],\n",
      "       [0.],\n",
      "       [0.],\n",
      "       [1.],\n",
      "       [0.],\n",
      "       [1.],\n",
      "       [1.],\n",
      "       [0.],\n",
      "       [0.],\n",
      "       [0.],\n",
      "       [0.],\n",
      "       [0.],\n",
      "       [0.],\n",
      "       [1.],\n",
      "       [1.],\n",
      "       [1.],\n",
      "       [1.],\n",
      "       [0.],\n",
      "       [1.],\n",
      "       [0.],\n",
      "       [1.],\n",
      "       [1.],\n",
      "       [0.],\n",
      "       [1.],\n",
      "       [0.],\n",
      "       [1.],\n",
      "       [0.],\n",
      "       [0.],\n",
      "       [1.],\n",
      "       [1.],\n",
      "       [1.],\n",
      "       [1.],\n",
      "       [0.],\n",
      "       [1.],\n",
      "       [0.],\n",
      "       [0.],\n",
      "       [0.],\n",
      "       [0.],\n",
      "       [1.],\n",
      "       [0.]]))\n"
     ]
    },
    {
     "data": {
      "image/png": "[encoded data removed]",
      "text/plain": [
       "<Figure size 432x288 with 1 Axes>"
      ]
     },
     "metadata": {},
     "output_type": "display_data"
    }
   ],
   "source": [
    "d = DataSet()\n",
    "d.plot_random()\n",
    "batch = d.get_batch(50)\n",
    "print(next(batch))"
   ]
  },
  {
   "cell_type": "code",
   "execution_count": 371,
   "metadata": {},
   "outputs": [
    {
     "name": "stdout",
     "output_type": "stream",
     "text": [
      "[[1.]\n",
      " [1.]\n",
      " [1.]\n",
      " [0.]\n",
      " [1.]\n",
      " [1.]\n",
      " [0.]\n",
      " [1.]\n",
      " [1.]\n",
      " [1.]\n",
      " [1.]\n",
      " [1.]\n",
      " [1.]\n",
      " [0.]\n",
      " [0.]\n",
      " [0.]\n",
      " [1.]\n",
      " [0.]\n",
      " [0.]\n",
      " [0.]\n",
      " [0.]\n",
      " [0.]\n",
      " [0.]\n",
      " [0.]\n",
      " [1.]\n",
      " [1.]\n",
      " [1.]\n",
      " [1.]\n",
      " [1.]\n",
      " [1.]\n",
      " [0.]\n",
      " [0.]\n",
      " [0.]\n",
      " [1.]\n",
      " [1.]\n",
      " [0.]\n",
      " [1.]\n",
      " [0.]\n",
      " [0.]\n",
      " [1.]\n",
      " [0.]\n",
      " [0.]\n",
      " [0.]\n",
      " [1.]\n",
      " [1.]\n",
      " [1.]\n",
      " [0.]\n",
      " [1.]\n",
      " [1.]\n",
      " [1.]]\n"
     ]
    }
   ],
   "source": [
    "print(next(batch)[1])"
   ]
  }
 ],
 "metadata": {
  "kernelspec": {
   "display_name": "Python 3",
   "language": "python",
   "name": "python3"
  }
 },
 "nbformat": 4,
 "nbformat_minor": 2
}
